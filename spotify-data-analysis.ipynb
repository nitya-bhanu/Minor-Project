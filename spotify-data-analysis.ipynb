{
 "cells": [
  {
   "cell_type": "code",
   "execution_count": 1,
   "metadata": {
    "execution": {
     "iopub.execute_input": "2023-01-30T11:29:29.181114Z",
     "iopub.status.busy": "2023-01-30T11:29:29.180788Z",
     "iopub.status.idle": "2023-01-30T11:29:29.187521Z",
     "shell.execute_reply": "2023-01-30T11:29:29.185654Z",
     "shell.execute_reply.started": "2023-01-30T11:29:29.18109Z"
    }
   },
   "outputs": [],
   "source": [
    "import pandas as pd\n",
    "import numpy as np\n",
    "import matplotlib.pyplot as plt\n",
    "import seaborn as sns"
   ]
  },
  {
   "cell_type": "code",
   "execution_count": 2,
   "metadata": {
    "execution": {
     "iopub.execute_input": "2023-01-30T11:29:29.19033Z",
     "iopub.status.busy": "2023-01-30T11:29:29.189882Z",
     "iopub.status.idle": "2023-01-30T11:29:31.264931Z",
     "shell.execute_reply": "2023-01-30T11:29:31.263698Z",
     "shell.execute_reply.started": "2023-01-30T11:29:29.190295Z"
    }
   },
   "outputs": [
    {
     "data": {
      "text/html": [
       "<div>\n",
       "<style scoped>\n",
       "    .dataframe tbody tr th:only-of-type {\n",
       "        vertical-align: middle;\n",
       "    }\n",
       "\n",
       "    .dataframe tbody tr th {\n",
       "        vertical-align: top;\n",
       "    }\n",
       "\n",
       "    .dataframe thead th {\n",
       "        text-align: right;\n",
       "    }\n",
       "</style>\n",
       "<table border=\"1\" class=\"dataframe\">\n",
       "  <thead>\n",
       "    <tr style=\"text-align: right;\">\n",
       "      <th></th>\n",
       "      <th>id</th>\n",
       "      <th>name</th>\n",
       "      <th>popularity</th>\n",
       "      <th>duration_ms</th>\n",
       "      <th>explicit</th>\n",
       "      <th>artists</th>\n",
       "      <th>id_artists</th>\n",
       "      <th>release_date</th>\n",
       "      <th>danceability</th>\n",
       "      <th>energy</th>\n",
       "      <th>key</th>\n",
       "      <th>loudness</th>\n",
       "      <th>mode</th>\n",
       "      <th>speechiness</th>\n",
       "      <th>acousticness</th>\n",
       "      <th>instrumentalness</th>\n",
       "      <th>liveness</th>\n",
       "      <th>valence</th>\n",
       "      <th>tempo</th>\n",
       "      <th>time_signature</th>\n",
       "    </tr>\n",
       "  </thead>\n",
       "  <tbody>\n",
       "    <tr>\n",
       "      <th>0</th>\n",
       "      <td>35iwgR4jXetI318WEWsa1Q</td>\n",
       "      <td>Carve</td>\n",
       "      <td>6</td>\n",
       "      <td>126903</td>\n",
       "      <td>0</td>\n",
       "      <td>['Uli']</td>\n",
       "      <td>['45tIt06XoI0Iio4LBEVpls']</td>\n",
       "      <td>1922-02-22</td>\n",
       "      <td>0.645</td>\n",
       "      <td>0.4450</td>\n",
       "      <td>0</td>\n",
       "      <td>-13.338</td>\n",
       "      <td>1</td>\n",
       "      <td>0.4510</td>\n",
       "      <td>0.674</td>\n",
       "      <td>0.7440</td>\n",
       "      <td>0.151</td>\n",
       "      <td>0.127</td>\n",
       "      <td>104.851</td>\n",
       "      <td>3</td>\n",
       "    </tr>\n",
       "    <tr>\n",
       "      <th>1</th>\n",
       "      <td>021ht4sdgPcrDgSk7JTbKY</td>\n",
       "      <td>Capítulo 2.16 - Banquero Anarquista</td>\n",
       "      <td>0</td>\n",
       "      <td>98200</td>\n",
       "      <td>0</td>\n",
       "      <td>['Fernando Pessoa']</td>\n",
       "      <td>['14jtPCOoNZwquk5wd9DxrY']</td>\n",
       "      <td>1922-06-01</td>\n",
       "      <td>0.695</td>\n",
       "      <td>0.2630</td>\n",
       "      <td>0</td>\n",
       "      <td>-22.136</td>\n",
       "      <td>1</td>\n",
       "      <td>0.9570</td>\n",
       "      <td>0.797</td>\n",
       "      <td>0.0000</td>\n",
       "      <td>0.148</td>\n",
       "      <td>0.655</td>\n",
       "      <td>102.009</td>\n",
       "      <td>1</td>\n",
       "    </tr>\n",
       "    <tr>\n",
       "      <th>2</th>\n",
       "      <td>07A5yehtSnoedViJAZkNnc</td>\n",
       "      <td>Vivo para Quererte - Remasterizado</td>\n",
       "      <td>0</td>\n",
       "      <td>181640</td>\n",
       "      <td>0</td>\n",
       "      <td>['Ignacio Corsini']</td>\n",
       "      <td>['5LiOoJbxVSAMkBS2fUm3X2']</td>\n",
       "      <td>1922-03-21</td>\n",
       "      <td>0.434</td>\n",
       "      <td>0.1770</td>\n",
       "      <td>1</td>\n",
       "      <td>-21.180</td>\n",
       "      <td>1</td>\n",
       "      <td>0.0512</td>\n",
       "      <td>0.994</td>\n",
       "      <td>0.0218</td>\n",
       "      <td>0.212</td>\n",
       "      <td>0.457</td>\n",
       "      <td>130.418</td>\n",
       "      <td>5</td>\n",
       "    </tr>\n",
       "    <tr>\n",
       "      <th>3</th>\n",
       "      <td>08FmqUhxtyLTn6pAh6bk45</td>\n",
       "      <td>El Prisionero - Remasterizado</td>\n",
       "      <td>0</td>\n",
       "      <td>176907</td>\n",
       "      <td>0</td>\n",
       "      <td>['Ignacio Corsini']</td>\n",
       "      <td>['5LiOoJbxVSAMkBS2fUm3X2']</td>\n",
       "      <td>1922-03-21</td>\n",
       "      <td>0.321</td>\n",
       "      <td>0.0946</td>\n",
       "      <td>7</td>\n",
       "      <td>-27.961</td>\n",
       "      <td>1</td>\n",
       "      <td>0.0504</td>\n",
       "      <td>0.995</td>\n",
       "      <td>0.9180</td>\n",
       "      <td>0.104</td>\n",
       "      <td>0.397</td>\n",
       "      <td>169.980</td>\n",
       "      <td>3</td>\n",
       "    </tr>\n",
       "    <tr>\n",
       "      <th>4</th>\n",
       "      <td>08y9GfoqCWfOGsKdwojr5e</td>\n",
       "      <td>Lady of the Evening</td>\n",
       "      <td>0</td>\n",
       "      <td>163080</td>\n",
       "      <td>0</td>\n",
       "      <td>['Dick Haymes']</td>\n",
       "      <td>['3BiJGZsyX9sJchTqcSA7Su']</td>\n",
       "      <td>1922</td>\n",
       "      <td>0.402</td>\n",
       "      <td>0.1580</td>\n",
       "      <td>3</td>\n",
       "      <td>-16.900</td>\n",
       "      <td>0</td>\n",
       "      <td>0.0390</td>\n",
       "      <td>0.989</td>\n",
       "      <td>0.1300</td>\n",
       "      <td>0.311</td>\n",
       "      <td>0.196</td>\n",
       "      <td>103.220</td>\n",
       "      <td>4</td>\n",
       "    </tr>\n",
       "  </tbody>\n",
       "</table>\n",
       "</div>"
      ],
      "text/plain": [
       "                       id                                 name  popularity  \\\n",
       "0  35iwgR4jXetI318WEWsa1Q                                Carve           6   \n",
       "1  021ht4sdgPcrDgSk7JTbKY  Capítulo 2.16 - Banquero Anarquista           0   \n",
       "2  07A5yehtSnoedViJAZkNnc   Vivo para Quererte - Remasterizado           0   \n",
       "3  08FmqUhxtyLTn6pAh6bk45        El Prisionero - Remasterizado           0   \n",
       "4  08y9GfoqCWfOGsKdwojr5e                  Lady of the Evening           0   \n",
       "\n",
       "   duration_ms  explicit              artists                  id_artists  \\\n",
       "0       126903         0              ['Uli']  ['45tIt06XoI0Iio4LBEVpls']   \n",
       "1        98200         0  ['Fernando Pessoa']  ['14jtPCOoNZwquk5wd9DxrY']   \n",
       "2       181640         0  ['Ignacio Corsini']  ['5LiOoJbxVSAMkBS2fUm3X2']   \n",
       "3       176907         0  ['Ignacio Corsini']  ['5LiOoJbxVSAMkBS2fUm3X2']   \n",
       "4       163080         0      ['Dick Haymes']  ['3BiJGZsyX9sJchTqcSA7Su']   \n",
       "\n",
       "  release_date  danceability  energy  key  loudness  mode  speechiness  \\\n",
       "0   1922-02-22         0.645  0.4450    0   -13.338     1       0.4510   \n",
       "1   1922-06-01         0.695  0.2630    0   -22.136     1       0.9570   \n",
       "2   1922-03-21         0.434  0.1770    1   -21.180     1       0.0512   \n",
       "3   1922-03-21         0.321  0.0946    7   -27.961     1       0.0504   \n",
       "4         1922         0.402  0.1580    3   -16.900     0       0.0390   \n",
       "\n",
       "   acousticness  instrumentalness  liveness  valence    tempo  time_signature  \n",
       "0         0.674            0.7440     0.151    0.127  104.851               3  \n",
       "1         0.797            0.0000     0.148    0.655  102.009               1  \n",
       "2         0.994            0.0218     0.212    0.457  130.418               5  \n",
       "3         0.995            0.9180     0.104    0.397  169.980               3  \n",
       "4         0.989            0.1300     0.311    0.196  103.220               4  "
      ]
     },
     "execution_count": 2,
     "metadata": {},
     "output_type": "execute_result"
    }
   ],
   "source": [
    "df_spotify=pd.read_csv('tracks.csv')\n",
    "df_spotify.head()"
   ]
  },
  {
   "cell_type": "code",
   "execution_count": 3,
   "metadata": {
    "execution": {
     "iopub.execute_input": "2023-01-30T11:29:31.26763Z",
     "iopub.status.busy": "2023-01-30T11:29:31.267058Z",
     "iopub.status.idle": "2023-01-30T11:29:31.396912Z",
     "shell.execute_reply": "2023-01-30T11:29:31.395792Z",
     "shell.execute_reply.started": "2023-01-30T11:29:31.267598Z"
    }
   },
   "outputs": [
    {
     "name": "stdout",
     "output_type": "stream",
     "text": [
      "id                   0\n",
      "name                71\n",
      "popularity           0\n",
      "duration_ms          0\n",
      "explicit             0\n",
      "artists              0\n",
      "id_artists           0\n",
      "release_date         0\n",
      "danceability         0\n",
      "energy               0\n",
      "key                  0\n",
      "loudness             0\n",
      "mode                 0\n",
      "speechiness          0\n",
      "acousticness         0\n",
      "instrumentalness     0\n",
      "liveness             0\n",
      "valence              0\n",
      "tempo                0\n",
      "time_signature       0\n",
      "dtype: int64\n"
     ]
    }
   ],
   "source": [
    "#to check the null values in the dataset\n",
    "print(pd.isnull(df_spotify).sum())\n"
   ]
  },
  {
   "cell_type": "markdown",
   "metadata": {},
   "source": [
    "[Section title](#Spotify-Info)"
   ]
  },
  {
   "cell_type": "code",
   "execution_count": 5,
   "metadata": {
    "execution": {
     "iopub.execute_input": "2023-01-30T11:29:31.39904Z",
     "iopub.status.busy": "2023-01-30T11:29:31.398469Z",
     "iopub.status.idle": "2023-01-30T11:29:31.531741Z",
     "shell.execute_reply": "2023-01-30T11:29:31.530859Z",
     "shell.execute_reply.started": "2023-01-30T11:29:31.399006Z"
    },
    "scrolled": false
   },
   "outputs": [
    {
     "name": "stdout",
     "output_type": "stream",
     "text": [
      "<class 'pandas.core.frame.DataFrame'>\n",
      "RangeIndex: 586672 entries, 0 to 586671\n",
      "Data columns (total 20 columns):\n",
      " #   Column            Non-Null Count   Dtype  \n",
      "---  ------            --------------   -----  \n",
      " 0   id                586672 non-null  object \n",
      " 1   name              586601 non-null  object \n",
      " 2   popularity        586672 non-null  int64  \n",
      " 3   duration_ms       586672 non-null  int64  \n",
      " 4   explicit          586672 non-null  int64  \n",
      " 5   artists           586672 non-null  object \n",
      " 6   id_artists        586672 non-null  object \n",
      " 7   release_date      586672 non-null  object \n",
      " 8   danceability      586672 non-null  float64\n",
      " 9   energy            586672 non-null  float64\n",
      " 10  key               586672 non-null  int64  \n",
      " 11  loudness          586672 non-null  float64\n",
      " 12  mode              586672 non-null  int64  \n",
      " 13  speechiness       586672 non-null  float64\n",
      " 14  acousticness      586672 non-null  float64\n",
      " 15  instrumentalness  586672 non-null  float64\n",
      " 16  liveness          586672 non-null  float64\n",
      " 17  valence           586672 non-null  float64\n",
      " 18  tempo             586672 non-null  float64\n",
      " 19  time_signature    586672 non-null  int64  \n",
      "dtypes: float64(9), int64(6), object(5)\n",
      "memory usage: 89.5+ MB\n"
     ]
    }
   ],
   "source": [
    "df_spotify.info()"
   ]
  },
  {
   "cell_type": "code",
   "execution_count": null,
   "metadata": {
    "execution": {
     "iopub.execute_input": "2023-01-30T11:29:31.53433Z",
     "iopub.status.busy": "2023-01-30T11:29:31.534086Z",
     "iopub.status.idle": "2023-01-30T11:29:31.732816Z",
     "shell.execute_reply": "2023-01-30T11:29:31.731796Z",
     "shell.execute_reply.started": "2023-01-30T11:29:31.534307Z"
    }
   },
   "outputs": [],
   "source": [
    "#sort the df otbo popularity column\n",
    "sorted_df_pop=df_spotify.sort_values(\"popularity\",ascending=True)\n",
    "sorted_df_pop"
   ]
  },
  {
   "cell_type": "code",
   "execution_count": null,
   "metadata": {
    "execution": {
     "iopub.execute_input": "2023-01-30T11:29:31.734363Z",
     "iopub.status.busy": "2023-01-30T11:29:31.734123Z",
     "iopub.status.idle": "2023-01-30T11:29:32.041679Z",
     "shell.execute_reply": "2023-01-30T11:29:32.040218Z",
     "shell.execute_reply.started": "2023-01-30T11:29:31.734341Z"
    }
   },
   "outputs": [],
   "source": [
    "df_spotify.describe().transpose()"
   ]
  },
  {
   "cell_type": "markdown",
   "metadata": {},
   "source": [
    "# Top 10 most popular songs on spotify"
   ]
  },
  {
   "cell_type": "code",
   "execution_count": null,
   "metadata": {
    "execution": {
     "iopub.execute_input": "2023-01-30T11:29:32.044868Z",
     "iopub.status.busy": "2023-01-30T11:29:32.044565Z",
     "iopub.status.idle": "2023-01-30T11:29:32.073923Z",
     "shell.execute_reply": "2023-01-30T11:29:32.072905Z",
     "shell.execute_reply.started": "2023-01-30T11:29:32.044846Z"
    }
   },
   "outputs": [],
   "source": [
    "most_popular=df_spotify.query('popularity>90',inplace=False ).sort_values('popularity',ascending=False)\n",
    "#inplace = False means we are not making changes to the original df\n",
    "most_popular.head(10)"
   ]
  },
  {
   "cell_type": "code",
   "execution_count": null,
   "metadata": {
    "execution": {
     "iopub.execute_input": "2023-01-30T11:29:32.078543Z",
     "iopub.status.busy": "2023-01-30T11:29:32.07763Z",
     "iopub.status.idle": "2023-01-30T11:29:32.192622Z",
     "shell.execute_reply": "2023-01-30T11:29:32.191195Z",
     "shell.execute_reply.started": "2023-01-30T11:29:32.078506Z"
    }
   },
   "outputs": [],
   "source": [
    "# # set the release date column as the index of the dataframe\n",
    "df_spotify.set_index('release_date', inplace=True)\n",
    "df_spotify.index=pd.to_datetime(df_spotify.index,dayfirst=True)\n",
    "df_spotify.head()"
   ]
  },
  {
   "cell_type": "code",
   "execution_count": null,
   "metadata": {
    "execution": {
     "iopub.execute_input": "2023-01-30T11:29:32.195082Z",
     "iopub.status.busy": "2023-01-30T11:29:32.194749Z",
     "iopub.status.idle": "2023-01-30T11:29:32.288193Z",
     "shell.execute_reply": "2023-01-30T11:29:32.286565Z",
     "shell.execute_reply.started": "2023-01-30T11:29:32.195057Z"
    }
   },
   "outputs": [],
   "source": [
    "#find the artists that released songs on 1922-01-01\n",
    "df_spotify[[\"artists\"]].loc['1922-01-01']"
   ]
  },
  {
   "cell_type": "markdown",
   "metadata": {},
   "source": [
    "# Convert the duration time from milliseconds to minutes"
   ]
  },
  {
   "cell_type": "code",
   "execution_count": null,
   "metadata": {
    "execution": {
     "iopub.execute_input": "2023-01-30T11:29:32.290936Z",
     "iopub.status.busy": "2023-01-30T11:29:32.29008Z",
     "iopub.status.idle": "2023-01-30T11:29:32.610038Z",
     "shell.execute_reply": "2023-01-30T11:29:32.609085Z",
     "shell.execute_reply.started": "2023-01-30T11:29:32.290883Z"
    }
   },
   "outputs": [],
   "source": [
    "df_spotify['duration']=df_spotify['duration_ms'].apply(lambda x:(round(x/1000))/60)\n",
    "df_spotify.drop('duration_ms',inplace=True,axis=1)"
   ]
  },
  {
   "cell_type": "code",
   "execution_count": null,
   "metadata": {
    "execution": {
     "iopub.execute_input": "2023-01-30T11:29:32.613765Z",
     "iopub.status.busy": "2023-01-30T11:29:32.613441Z",
     "iopub.status.idle": "2023-01-30T11:29:32.62162Z",
     "shell.execute_reply": "2023-01-30T11:29:32.620628Z",
     "shell.execute_reply.started": "2023-01-30T11:29:32.613736Z"
    }
   },
   "outputs": [],
   "source": [
    "df_spotify.duration.head()"
   ]
  },
  {
   "cell_type": "markdown",
   "metadata": {},
   "source": [
    "# Plot a correlation map\n",
    "here error is in corr method, while finding the correlation, remove that first "
   ]
  },
  {
   "cell_type": "code",
   "execution_count": null,
   "metadata": {
    "execution": {
     "iopub.execute_input": "2023-01-30T11:29:32.623432Z",
     "iopub.status.busy": "2023-01-30T11:29:32.622921Z",
     "iopub.status.idle": "2023-01-30T11:29:33.524463Z",
     "shell.execute_reply": "2023-01-30T11:29:33.523292Z",
     "shell.execute_reply.started": "2023-01-30T11:29:32.623399Z"
    }
   },
   "outputs": [],
   "source": [
    "corr_df=df_spotify.drop(['key','mode','explicit'],axis=1).corr(method='pearson')\n",
    "plt.figure(figsize=(14,6))\n",
    "heatmap=sns.heatmap(corr_df,annot=True,fmt='.1g',vmin=-1,vmax=1,center=0,cmap='viridis',linewidths=1,linecolor='Black')\n",
    "heatmap.set_title('Correlation Heatmap Between Variable')\n",
    "heatmap.set_xticklabels(heatmap.get_xticklabels(),rotation=90)\n",
    "plt.show()"
   ]
  },
  {
   "cell_type": "markdown",
   "metadata": {},
   "source": [
    "# Create regression plots using .4% of whole data"
   ]
  },
  {
   "cell_type": "code",
   "execution_count": null,
   "metadata": {
    "execution": {
     "iopub.execute_input": "2023-01-30T11:29:33.526606Z",
     "iopub.status.busy": "2023-01-30T11:29:33.525893Z",
     "iopub.status.idle": "2023-01-30T11:29:33.571077Z",
     "shell.execute_reply": "2023-01-30T11:29:33.570307Z",
     "shell.execute_reply.started": "2023-01-30T11:29:33.526581Z"
    }
   },
   "outputs": [],
   "source": [
    "sample_df=df_spotify.sample(int(0.004*len(df_spotify)))\n",
    "print('Length of the sample_df=',len(sample_df))\n",
    "sample_df"
   ]
  },
  {
   "cell_type": "markdown",
   "metadata": {},
   "source": [
    "# Regression map between Loudness and Energy"
   ]
  },
  {
   "cell_type": "code",
   "execution_count": null,
   "metadata": {
    "execution": {
     "iopub.execute_input": "2023-01-30T11:29:33.573322Z",
     "iopub.status.busy": "2023-01-30T11:29:33.572916Z",
     "iopub.status.idle": "2023-01-30T11:29:33.969971Z",
     "shell.execute_reply": "2023-01-30T11:29:33.968449Z",
     "shell.execute_reply.started": "2023-01-30T11:29:33.57329Z"
    }
   },
   "outputs": [],
   "source": [
    "#Plot Regression map between Loudness & Energy\n",
    "plt.figure(figsize=(10,6))\n",
    "sns.regplot(data=sample_df,y='loudness',x='energy',color='c').set(title='Loudness vs Energy Correlation')\n"
   ]
  },
  {
   "cell_type": "markdown",
   "metadata": {},
   "source": [
    "The above graph denotes that the energy and loudness of the songs on Spotify are positively and strongly correlated."
   ]
  },
  {
   "cell_type": "markdown",
   "metadata": {},
   "source": [
    "# Correlation between Popularity and Acousticness"
   ]
  },
  {
   "cell_type": "code",
   "execution_count": null,
   "metadata": {
    "execution": {
     "iopub.execute_input": "2023-01-30T11:29:33.972046Z",
     "iopub.status.busy": "2023-01-30T11:29:33.971702Z",
     "iopub.status.idle": "2023-01-30T11:29:34.389324Z",
     "shell.execute_reply": "2023-01-30T11:29:34.387986Z",
     "shell.execute_reply.started": "2023-01-30T11:29:33.972021Z"
    }
   },
   "outputs": [],
   "source": [
    "#plot regression map between popularity and acousticness \n",
    "plt.figure(figsize=(10,6))\n",
    "sns.regplot(data=sample_df,y='popularity',x='acousticness',color='b').set(title='Popularity vs Acousticness Correlation')\n"
   ]
  },
  {
   "cell_type": "markdown",
   "metadata": {},
   "source": [
    "The above graph denotes that Popularity and Acousticness of songs on Spotify are negatively and weakly correlated."
   ]
  },
  {
   "cell_type": "code",
   "execution_count": null,
   "metadata": {
    "execution": {
     "iopub.execute_input": "2023-01-30T11:29:34.390941Z",
     "iopub.status.busy": "2023-01-30T11:29:34.390665Z",
     "iopub.status.idle": "2023-01-30T11:29:34.450551Z",
     "shell.execute_reply": "2023-01-30T11:29:34.449233Z",
     "shell.execute_reply.started": "2023-01-30T11:29:34.390917Z"
    }
   },
   "outputs": [],
   "source": [
    "#Create a new column called 'dates' in the df_spotify\n",
    "df_spotify['dates']=df_spotify.index.get_level_values('release_date')\n",
    "df_spotify.dates=pd.to_datetime(df_spotify.dates)\n",
    "years=df_spotify.dates.dt.year #extract years from the dates"
   ]
  },
  {
   "cell_type": "code",
   "execution_count": null,
   "metadata": {
    "execution": {
     "iopub.execute_input": "2023-01-30T11:29:34.452356Z",
     "iopub.status.busy": "2023-01-30T11:29:34.452062Z",
     "iopub.status.idle": "2023-01-30T11:29:34.459212Z",
     "shell.execute_reply": "2023-01-30T11:29:34.458085Z",
     "shell.execute_reply.started": "2023-01-30T11:29:34.452325Z"
    }
   },
   "outputs": [],
   "source": [
    "type(years)"
   ]
  },
  {
   "cell_type": "markdown",
   "metadata": {},
   "source": [
    "# Total number of songs vs Years"
   ]
  },
  {
   "cell_type": "code",
   "execution_count": null,
   "metadata": {
    "execution": {
     "iopub.execute_input": "2023-01-30T11:29:34.460428Z",
     "iopub.status.busy": "2023-01-30T11:29:34.460179Z",
     "iopub.status.idle": "2023-01-30T11:29:35.205633Z",
     "shell.execute_reply": "2023-01-30T11:29:35.203784Z",
     "shell.execute_reply.started": "2023-01-30T11:29:34.460405Z"
    }
   },
   "outputs": [],
   "source": [
    "#plot the distribution of total no. of songs in each year since 1922 on spotify\n",
    "sns.displot(years,discrete=True,aspect=2,height=5,kind='hist').set(title='Number of songs per year')"
   ]
  },
  {
   "cell_type": "markdown",
   "metadata": {},
   "source": [
    "# Total Duration of Songs Vs Years"
   ]
  },
  {
   "cell_type": "code",
   "execution_count": null,
   "metadata": {
    "execution": {
     "iopub.execute_input": "2023-01-30T11:29:35.208089Z",
     "iopub.status.busy": "2023-01-30T11:29:35.207763Z",
     "iopub.status.idle": "2023-01-30T11:29:43.984674Z",
     "shell.execute_reply": "2023-01-30T11:29:43.983281Z",
     "shell.execute_reply.started": "2023-01-30T11:29:35.208065Z"
    }
   },
   "outputs": [],
   "source": [
    "total_dr=df_spotify.duration\n",
    "fig_dims=(18,7)\n",
    "fig,ax=plt.subplots(figsize=fig_dims)\n",
    "fig=sns.barplot(x=years,y=total_dr,ax=ax,errwidth=False).set(title='Year vs Duration')\n",
    "plt.xticks(rotation=90)\n",
    "plt.show()"
   ]
  },
  {
   "cell_type": "code",
   "execution_count": null,
   "metadata": {
    "execution": {
     "iopub.execute_input": "2023-01-30T11:29:43.986382Z",
     "iopub.status.busy": "2023-01-30T11:29:43.986064Z",
     "iopub.status.idle": "2023-01-30T11:29:44.016437Z",
     "shell.execute_reply": "2023-01-30T11:29:44.015852Z",
     "shell.execute_reply.started": "2023-01-30T11:29:43.986357Z"
    }
   },
   "outputs": [],
   "source": [
    "df_spotify"
   ]
  },
  {
   "cell_type": "code",
   "execution_count": null,
   "metadata": {
    "execution": {
     "iopub.execute_input": "2023-01-30T11:29:44.018109Z",
     "iopub.status.busy": "2023-01-30T11:29:44.017423Z",
     "iopub.status.idle": "2023-01-30T11:29:44.048869Z",
     "shell.execute_reply": "2023-01-30T11:29:44.047746Z",
     "shell.execute_reply.started": "2023-01-30T11:29:44.018078Z"
    }
   },
   "outputs": [],
   "source": [
    "sample_df"
   ]
  },
  {
   "cell_type": "code",
   "execution_count": null,
   "metadata": {},
   "outputs": [],
   "source": []
  },
  {
   "cell_type": "markdown",
   "metadata": {},
   "source": [
    "# Genre dataset"
   ]
  },
  {
   "cell_type": "code",
   "execution_count": null,
   "metadata": {
    "execution": {
     "iopub.execute_input": "2023-01-30T11:29:44.05023Z",
     "iopub.status.busy": "2023-01-30T11:29:44.050012Z",
     "iopub.status.idle": "2023-01-30T11:29:44.05658Z",
     "shell.execute_reply": "2023-01-30T11:29:44.054609Z",
     "shell.execute_reply.started": "2023-01-30T11:29:44.050209Z"
    }
   },
   "outputs": [],
   "source": [
    "import pandas as pd\n",
    "import numpy as np\n",
    "import matplotlib.pyplot as plt\n",
    "import seaborn as sns"
   ]
  },
  {
   "cell_type": "code",
   "execution_count": null,
   "metadata": {
    "execution": {
     "iopub.execute_input": "2023-01-30T11:29:44.058211Z",
     "iopub.status.busy": "2023-01-30T11:29:44.057915Z",
     "iopub.status.idle": "2023-01-30T11:29:44.594818Z",
     "shell.execute_reply": "2023-01-30T11:29:44.59368Z",
     "shell.execute_reply.started": "2023-01-30T11:29:44.058186Z"
    }
   },
   "outputs": [],
   "source": [
    "df_genre=pd.read_csv('SpotifyFeatures.csv')"
   ]
  },
  {
   "cell_type": "code",
   "execution_count": null,
   "metadata": {
    "execution": {
     "iopub.execute_input": "2023-01-30T11:29:44.597296Z",
     "iopub.status.busy": "2023-01-30T11:29:44.596815Z",
     "iopub.status.idle": "2023-01-30T11:29:44.620428Z",
     "shell.execute_reply": "2023-01-30T11:29:44.618926Z",
     "shell.execute_reply.started": "2023-01-30T11:29:44.597257Z"
    }
   },
   "outputs": [],
   "source": [
    "df_genre.head()"
   ]
  },
  {
   "cell_type": "code",
   "execution_count": null,
   "metadata": {
    "execution": {
     "iopub.execute_input": "2023-01-30T11:29:44.62337Z",
     "iopub.status.busy": "2023-01-30T11:29:44.622829Z",
     "iopub.status.idle": "2023-01-30T11:29:44.669953Z",
     "shell.execute_reply": "2023-01-30T11:29:44.668949Z",
     "shell.execute_reply.started": "2023-01-30T11:29:44.623335Z"
    }
   },
   "outputs": [],
   "source": [
    "Popular_genre=df_genre[['genre', 'popularity']].sort_values(by=\"popularity\",ascending=False)\n",
    "Popular_genre=Popular_genre.drop_duplicates(subset = \"popularity\")\n",
    "#Popular_genre=Popular_genre.head(25)\n",
    "Popular_genre"
   ]
  },
  {
   "cell_type": "code",
   "execution_count": null,
   "metadata": {
    "execution": {
     "iopub.execute_input": "2023-01-30T11:29:44.671113Z",
     "iopub.status.busy": "2023-01-30T11:29:44.670854Z",
     "iopub.status.idle": "2023-01-30T11:29:44.6952Z",
     "shell.execute_reply": "2023-01-30T11:29:44.693771Z",
     "shell.execute_reply.started": "2023-01-30T11:29:44.671087Z"
    }
   },
   "outputs": [],
   "source": [
    "\n",
    "V=[]\n",
    "for i in Popular_genre.genre.value_counts().index.tolist():\n",
    "    c = Popular_genre[Popular_genre['genre'].str.contains(i)]['popularity'].sum()\n",
    "    V.append(c)\n",
    " \n",
    "#Initialize data\n",
    "genre = Popular_genre.genre.value_counts().index.tolist()\n",
    "popularity = V\n",
    "\n",
    "# Create a pandas dataframe\n",
    "pop_vs_genre_df = pd.DataFrame({\"genre\": genre,\n",
    "                   \"popularity\": popularity})"
   ]
  },
  {
   "cell_type": "code",
   "execution_count": null,
   "metadata": {
    "execution": {
     "iopub.execute_input": "2023-01-30T11:29:44.69733Z",
     "iopub.status.busy": "2023-01-30T11:29:44.696945Z",
     "iopub.status.idle": "2023-01-30T11:29:44.717043Z",
     "shell.execute_reply": "2023-01-30T11:29:44.715326Z",
     "shell.execute_reply.started": "2023-01-30T11:29:44.697294Z"
    }
   },
   "outputs": [],
   "source": [
    "pop_vs_genre_df.sort_values('popularity')"
   ]
  },
  {
   "cell_type": "code",
   "execution_count": null,
   "metadata": {
    "execution": {
     "iopub.execute_input": "2023-01-30T11:29:44.720061Z",
     "iopub.status.busy": "2023-01-30T11:29:44.719581Z",
     "iopub.status.idle": "2023-01-30T11:29:45.093124Z",
     "shell.execute_reply": "2023-01-30T11:29:45.092084Z",
     "shell.execute_reply.started": "2023-01-30T11:29:44.720034Z"
    }
   },
   "outputs": [],
   "source": [
    "plt.title('Popularity of the Songs in Different Genres')\n",
    "sns.color_palette('rocket',as_cmap=True)\n",
    "plt.figure(figsize=(15,8))\n",
    "sns.barplot(y='genre',x='popularity',data=pop_vs_genre_df,order=pop_vs_genre_df.sort_values('popularity',ascending = False).genre,ci=None)\n",
    "plt.xlabel('Popularity')\n",
    "plt.ylabel('Genre')\n",
    "plt.show()"
   ]
  },
  {
   "cell_type": "code",
   "execution_count": null,
   "metadata": {},
   "outputs": [],
   "source": []
  },
  {
   "cell_type": "code",
   "execution_count": null,
   "metadata": {},
   "outputs": [],
   "source": []
  }
 ],
 "metadata": {
  "kernelspec": {
   "display_name": "Python 3 (ipykernel)",
   "language": "python",
   "name": "python3"
  },
  "language_info": {
   "codemirror_mode": {
    "name": "ipython",
    "version": 3
   },
   "file_extension": ".py",
   "mimetype": "text/x-python",
   "name": "python",
   "nbconvert_exporter": "python",
   "pygments_lexer": "ipython3",
   "version": "3.10.8"
  }
 },
 "nbformat": 4,
 "nbformat_minor": 4
}
